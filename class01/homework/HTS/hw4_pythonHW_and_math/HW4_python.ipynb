{
 "cells": [
  {
   "cell_type": "code",
   "execution_count": 5,
   "metadata": {},
   "outputs": [
    {
     "name": "stdout",
     "output_type": "stream",
     "text": [
      "<class 'tuple'>\n",
      "('A', 'B', 'C')\n"
     ]
    }
   ],
   "source": [
    "tuple = ('A','B')\n",
    "new_tuple = tuple + ('C',)\n",
    "\n",
    "print(type(new_tuple))\n",
    "print(new_tuple)"
   ]
  },
  {
   "cell_type": "code",
   "execution_count": 5,
   "metadata": {},
   "outputs": [
    {
     "name": "stdout",
     "output_type": "stream",
     "text": [
      "[1, 2, 3, 4, 5]\n",
      "[6, 7, 8, 9, 10]\n",
      "[11, 12, 13, 14, 15]\n",
      "[16, 17, 18, 19, 20]\n",
      "[21, 22, 23, 24, 25]\n"
     ]
    }
   ],
   "source": [
    "n = int(input(\"정수를 입력하시오 : \\n\"))\n",
    "\n",
    "matrix = [[0] * n for _ in range(n)]\n",
    "\n",
    "start_num = 1\n",
    "\n",
    "for i in range(n):\n",
    "    for j in range(n):\n",
    "        matrix[i][j] = start_num\n",
    "        start_num += 1\n",
    "\n",
    "for row in matrix:\n",
    "    print(row)\n"
   ]
  },
  {
   "cell_type": "code",
   "execution_count": 10,
   "metadata": {},
   "outputs": [
    {
     "name": "stdout",
     "output_type": "stream",
     "text": [
      "[[1 2 3 4 5 6 7 8 9]]\n"
     ]
    }
   ],
   "source": [
    "import numpy as np\n",
    "\n",
    "n = int(input(\"정수를 입력하시오 : \\n\"))\n",
    "\n",
    "matrix = [[0] * n for _ in range(n)]\n",
    "\n",
    "start_num = 1\n",
    "\n",
    "for i in range(n):\n",
    "    for j in range(n):\n",
    "        matrix[i][j] = start_num\n",
    "        start_num += 1\n",
    "\n",
    "matrix_np = np.array(matrix)\n",
    "\n",
    "reshaped_arr = matrix_np.reshape((1,n*n))\n",
    "print(reshaped_arr)"
   ]
  },
  {
   "cell_type": "markdown",
   "metadata": {},
   "source": []
  },
  {
   "cell_type": "code",
   "execution_count": 7,
   "metadata": {},
   "outputs": [
    {
     "name": "stdout",
     "output_type": "stream",
     "text": [
      "(300, 300, 3)\n",
      "(1, 3, 300, 300)\n"
     ]
    }
   ],
   "source": [
    "import numpy as np\n",
    "import cv2\n",
    "\n",
    "image_path = r'/home/han/workspace/vector/image.jpg'\n",
    "image= cv2.imread(image_path)\n",
    "print(image.shape)\n",
    "\n",
    "\n",
    "image_expanded = np.expand_dims(image, axis=0)\n",
    "imge = np.transpose(image_expanded, (0, 3, 1, 2))\n",
    "\n",
    "print(imge.shape)\n"
   ]
  },
  {
   "cell_type": "code",
   "execution_count": 1,
   "metadata": {},
   "outputs": [],
   "source": [
    "import cv2\n",
    "import numpy as np\n",
    "\n",
    "image_path = r'/home/han/workspace/vector/image.jpg'\n",
    "img = cv2.imread(image_path,cv2.IMREAD_GRAYSCALE)\n",
    "kernel = np.array([[1,1,1],[1,-8,1],[1,1,1]])\n",
    "output = cv2.filter2D(img,-1,kernel)\n",
    "width = img.shape[1]\n",
    "height = img.shape[0]\n",
    "pad_width = 1\n",
    "pad_height = 1\n",
    "\n",
    "padded_img = np.zeros((height+pad_height*2,width+pad_width*2))\n",
    "padded_img[pad_height:pad_height+height,pad_width:pad_width+width] = img\n",
    "\n",
    "filter_img = np.zeros((height,width))\n",
    "\n",
    "for i in range(height):\n",
    "    for j in range(width):\n",
    "        region = padded_img[i:i+3,j:j+3]\n",
    "        filter_img[i,j] = np.sum(kernel*region/9)\n",
    "\n",
    "\n",
    "cv2.imshow('filtered image',filter_img)\n",
    "cv2.imshow('real flter',output)\n",
    "cv2.waitKey(0)\n",
    "cv2.destroyAllWindows()\n",
    "#cv2.imshow('edge',output)\n",
    "#cv2.waitKey(0)"
   ]
  }
 ],
 "metadata": {
  "kernelspec": {
   "display_name": ".env",
   "language": "python",
   "name": "python3"
  },
  "language_info": {
   "codemirror_mode": {
    "name": "ipython",
    "version": 3
   },
   "file_extension": ".py",
   "mimetype": "text/x-python",
   "name": "python",
   "nbconvert_exporter": "python",
   "pygments_lexer": "ipython3",
   "version": "3.10.12"
  }
 },
 "nbformat": 4,
 "nbformat_minor": 2
}
