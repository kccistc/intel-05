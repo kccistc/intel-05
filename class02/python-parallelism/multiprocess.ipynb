{
 "cells": [
  {
   "cell_type": "markdown",
   "metadata": {},
   "source": [
    "# Multiprocessing\n",
    "\n",
    "Reference: https://docs.python.org/3/library/multiprocessing.html#multiprocessing-programming"
   ]
  },
  {
   "cell_type": "code",
   "execution_count": 1,
   "metadata": {},
   "outputs": [],
   "source": [
    "import multiprocessing\n",
    "from tqdm import tqdm\n",
    "from functools import partial\n",
    "import os\n",
    "import sys\n",
    "#from pytube import YouTube\n",
    "from pytubefix import YouTube\n",
    "import psutil\n",
    "import time\n",
    "import subprocess"
   ]
  },
  {
   "cell_type": "markdown",
   "metadata": {},
   "source": [
    "### Parallelism Concept"
   ]
  },
  {
   "cell_type": "code",
   "execution_count": 2,
   "metadata": {},
   "outputs": [],
   "source": [
    "def say_numbers():\n",
    "    # Count 1~5\n",
    "    for i in range(1,6,1):\n",
    "        print(f\"Number: #{i}\")\n",
    "        #sys.stdout.write(f\"Number: #{i}\\n\")\n",
    "        #sys.stdout.flush()\n",
    "        time.sleep(0.1)\n",
    "\n",
    "def say_alphabet():\n",
    "    # Count a~e\n",
    "    for i in range(ord(\"a\"), ord(\"f\")):\n",
    "        print(f\"Alphabet: {chr(i)}\")\n",
    "        #sys.stdout.write(f\"Alphabet: {chr(i)}\\n\")\n",
    "        #sys.stdout.flush()\n",
    "        time.sleep(0.1)"
   ]
  },
  {
   "cell_type": "code",
   "execution_count": 3,
   "metadata": {},
   "outputs": [
    {
     "name": "stdout",
     "output_type": "stream",
     "text": [
      "----------Sequential execution----------\n",
      "Number: #1\n",
      "Number: #2\n",
      "Number: #3\n",
      "Number: #4\n",
      "Number: #5\n",
      "Alphabet: a\n",
      "Alphabet: b\n",
      "Alphabet: c\n",
      "Alphabet: d\n",
      "Alphabet: e\n",
      "execution time : 1.0022966861724854\n"
     ]
    }
   ],
   "source": [
    "print(\"-\"*10+\"Sequential execution\"+\"-\"*10)\n",
    "seq = time.time()\n",
    "say_numbers()\n",
    "say_alphabet()\n",
    "print(\"execution time :\", time.time() - seq)"
   ]
  },
  {
   "cell_type": "code",
   "execution_count": 4,
   "metadata": {},
   "outputs": [
    {
     "name": "stdout",
     "output_type": "stream",
     "text": [
      "----------Parallel execution----------\n",
      "Number: #1\n",
      "Alphabet: a\n",
      "Number: #2\n",
      "Alphabet: b\n",
      "Number: #3\n",
      "Alphabet: c\n",
      "Number: #4\n",
      "Alphabet: d\n",
      "Number: #5\n",
      "Alphabet: e\n",
      "execution time : 0.5328993797302246\n"
     ]
    }
   ],
   "source": [
    "print(\"-\"*10+\"Parallel execution\"+\"-\"*10)\n",
    "par = time.time()   # 러닝타임 체크 시작\n",
    "p1 = multiprocessing.Process(target=say_numbers)\n",
    "p2 = multiprocessing.Process(target=say_alphabet)\n",
    "p1.start()\n",
    "p2.start()\n",
    "\n",
    "# join으로 대기하지 않으면 부모 process가 종료되어 자식이 zombie가 된다.\n",
    "p1.join()\n",
    "p2.join()\n",
    "\n",
    "print(\"execution time :\", time.time() - par)    # 러닝타임 체크 끝"
   ]
  },
  {
   "cell_type": "markdown",
   "metadata": {},
   "source": [
    "### Process control methods\n",
    "\n",
    "- **start()**: Sub process를 실행시킵니다.\n",
    "- **terminate()**: Process에게 SIGTERM을 보냅니다.\n",
    "- **join()**: Process가 종료될 때까지 기다립니다.\n",
    "- join([_timeout_]): 지정된 시간(초 단위)까지 기다립니다."
   ]
  },
  {
   "cell_type": "code",
   "execution_count": 5,
   "metadata": {},
   "outputs": [
    {
     "name": "stdout",
     "output_type": "stream",
     "text": [
      "Process child process\n",
      "Child process counting started\n",
      "Number: #0\n",
      "Number: #1\n"
     ]
    }
   ],
   "source": [
    "# terminate() example\n",
    "# 아래의 코드는 좀비 프로세스를 생성시킵니다.\n",
    "# `watch -n1 \"ps aux|grep defunct\"` 명령어로 관찰 할 수 있습니다.\n",
    "\n",
    "def child_process_func():\n",
    "    print(\"Child process counting started\")\n",
    "    # Count 1~5\n",
    "    for i in range(10):\n",
    "        print(f\"Number: #{i}\")\n",
    "        time.sleep(0.5)\n",
    "    # print on normal termination only.\n",
    "    print(\"Normal termination\")\n",
    "\n",
    "\n",
    "p1 = multiprocessing.Process(target=child_process_func)\n",
    "print(\"Process child process\")\n",
    "p1.start()\n",
    "time.sleep(1)\n",
    "\n",
    "# Force kill process\n",
    "p1.terminate()"
   ]
  },
  {
   "cell_type": "code",
   "execution_count": 6,
   "metadata": {},
   "outputs": [
    {
     "name": "stdout",
     "output_type": "stream",
     "text": [
      "Process starting...\n",
      "Number: #1\n",
      "Number: #2\n",
      "Waiting for process to be terminated...\n",
      "Number: #3\n",
      "Number: #4\n",
      "Number: #5\n",
      "Process terminating...\n"
     ]
    }
   ],
   "source": [
    "# join()을 이용해서 좀비 프로세스가 발생하는 것을 방지 할 수 있습니다.\n",
    "\n",
    "def say_numbers():\n",
    "    # Count 1~5\n",
    "    for i in range(1,6,1):\n",
    "        print(f\"Number: #{i}\")\n",
    "        time.sleep(0.1)\n",
    "    print(\"Process terminating...\", flush=True)\n",
    "\n",
    "p1 = multiprocessing.Process(target=say_numbers)\n",
    "print(\"Process starting...\")\n",
    "p1.start()\n",
    "\n",
    "# Wait until process terminates\n",
    "print(\"Waiting for process to be terminated...\")\n",
    "p1.join()"
   ]
  },
  {
   "cell_type": "markdown",
   "metadata": {},
   "source": [
    "### IPC practice: Popen"
   ]
  },
  {
   "cell_type": "code",
   "execution_count": 7,
   "metadata": {},
   "outputs": [
    {
     "name": "stdout",
     "output_type": "stream",
     "text": [
      "Current process ID:222538\n",
      "Subprocess PID: 222898, PPID: 222538\n",
      "total 4350052\n",
      "-rw-rw-r--  1 jwpark jwpark 4454353277  2월 29  2024 cuda_12.4.0_550.54.14_linux.run\n",
      "drwxr-xr-x  2 jwpark jwpark       4096  9월  9 09:36 Desktop\n",
      "drwxrwxr-x  4 jwpark jwpark       4096  9월 24 10:05 docker-web\n",
      "drwxr-xr-x  3 jwpark jwpark       4096  9월 24 13:26 Documents\n",
      "drwxr-xr-x  5 jwpark jwpark       4096  9월 27 14:54 Downloads\n",
      "drwxrwxr-x  2 jwpark jwpark       4096  9월  9 14:51 existing-repo\n",
      "drwxrwxr-x  3 jwpark jwpark       4096  9월 24 10:13 go\n",
      "drwxrwxr-x  2 jwpark jwpark       4096  9월 25 13:48 intel\n",
      "drwxrwxr-x  6 jwpark jwpark       4096  9월 10 10:42 intel-05\n",
      "drwxrwxr-x  5 jwpark jwpark       4096  9월 26 15:08 miniproject_dataset\n",
      "drwxrwxr-x  5 jwpark jwpark       4096  9월 26 15:11 miniproject_dataset-2\n",
      "drwxrwxr-x  5 jwpark jwpark       4096  9월 26 15:16 miniproject_dataset_all\n",
      "drwxr-xr-x  2 jwpark jwpark       4096  9월  6 14:46 Music\n",
      "drwxrwxr-x  6 jwpark jwpark       4096  9월 27 10:46 openvino_env\n",
      "drwxr-xr-x  3 jwpark jwpark       4096  9월 12 16:12 Pictures\n",
      "drwxr-xr-x  2 jwpark jwpark       4096  9월  6 14:46 Public\n",
      "drwxrwxr-x  2 jwpark jwpark       4096  9월  6 15:40 python_test\n",
      "drwx------  5 jwpark jwpark       4096  9월  6 15:33 snap\n",
      "drwxr-xr-x  2 jwpark jwpark       4096  9월  6 14:46 Templates\n",
      "drwxrwxr-x  4 jwpark jwpark       4096  9월 19 14:26 tensorflow_datasets\n",
      "-rw-rw-r--  1 jwpark jwpark          0  9월 30 16:47 test2.c\n",
      "drwxr-xr-x  2 jwpark jwpark       4096  9월  6 14:46 Videos\n",
      "drwxrwxr-x  3 jwpark jwpark       4096  9월 27 08:54 Weapon-Detection-YOLOv5\n",
      "-rw-r--r--  1 root   root         3212  6월 19 00:29 winehq.key\n",
      "drwxrwxr-x 15 jwpark jwpark       4096  9월 26 13:32 workspace\n",
      "\n"
     ]
    }
   ],
   "source": [
    "print(\"Current process ID:{}\".format(os.getpid()), flush=True)\n",
    "\n",
    "ps_process = subprocess.Popen(['bash', 'subprocess.sh'], stdout=subprocess.PIPE, stderr=subprocess.PIPE)\n",
    "stdout, stderr = ps_process.communicate()\n",
    "\n",
    "print(stdout.decode())"
   ]
  },
  {
   "cell_type": "markdown",
   "metadata": {},
   "source": [
    "### `pytube` `tqdm` example\n",
    "\n",
    "- UI와 다운로드가 message_queue로 통신"
   ]
  },
  {
   "cell_type": "markdown",
   "metadata": {},
   "source": [
    "- UI Process"
   ]
  },
  {
   "cell_type": "code",
   "execution_count": 8,
   "metadata": {},
   "outputs": [],
   "source": [
    "# UI 프로세스\n",
    "def draw_ui(message_queue):\n",
    "    print(\n",
    "        \"UI process starting ... PID:{}, PPID:{}\"\n",
    "        .format(\n",
    "            os.getpid(),\n",
    "            psutil.Process(os.getpid()).ppid()), flush=True)\n",
    "    prev = 0\n",
    "    tqdm_bar = None\n",
    "    while True:\n",
    "        message = message_queue.get()\n",
    "        if message[\"type\"] == \"on_progress\":\n",
    "            if tqdm_bar is None:\n",
    "                tqdm_bar = tqdm(total=100, desc=\"Downloading...\")\n",
    "            cur_rate = message[\"progress_rate\"]\n",
    "            tqdm_bar.update(int(cur_rate-prev))\n",
    "            prev = int(cur_rate)\n",
    "        elif message[\"type\"] == \"on_complete\":\n",
    "            if tqdm_bar is None:\n",
    "                tqdm_bar = tqdm(total=100, desc=\"Downloading...\")\n",
    "            tqdm_bar.update(100-prev)\n",
    "            tqdm_bar.close()\n",
    "            print(\"Completed!\")\n",
    "            break"
   ]
  },
  {
   "cell_type": "markdown",
   "metadata": {},
   "source": [
    "- Download Process"
   ]
  },
  {
   "cell_type": "code",
   "execution_count": 9,
   "metadata": {},
   "outputs": [],
   "source": [
    "# 다운로드 프로세스\n",
    "def on_progress(stream, chunk, bytes_remaining, message_queue):\n",
    "    total_size = stream.filesize\n",
    "    bytes_downloaded = total_size - bytes_remaining\n",
    "    progress = (bytes_downloaded / total_size) * 100\n",
    "    message_queue.put({\"type\":\"on_progress\", \"progress_rate\":progress})\n",
    "\n",
    "def on_complete(stream, file_handle, message_queue):\n",
    "    message_queue.put({\"type\":\"on_complete\"})\n",
    "\n",
    "def download(url, message_queue):\n",
    "    print(\n",
    "        \"Download process starting ... PID:{}, PPID:{}\"\n",
    "        .format(\n",
    "            os.getpid(),\n",
    "            psutil.Process(os.getpid()).ppid()), flush=True)\n",
    "    on_progress_with_MQ = partial(on_progress, message_queue=message_queue)\n",
    "    on_complete_with_MQ = partial(on_complete, message_queue=message_queue)\n",
    "    youtube_clip = YouTube(\n",
    "                        url,\n",
    "                        on_progress_callback=on_progress_with_MQ,\n",
    "                        on_complete_callback=on_complete_with_MQ)\n",
    "    youtube_stream = youtube_clip.streams.get_highest_resolution()\n",
    "    youtube_stream.download(\"videos\")"
   ]
  },
  {
   "cell_type": "markdown",
   "metadata": {},
   "source": [
    "- Multiprocessing"
   ]
  },
  {
   "cell_type": "code",
   "execution_count": 10,
   "metadata": {},
   "outputs": [
    {
     "name": "stdout",
     "output_type": "stream",
     "text": [
      "main process running ... PID:222538\n",
      "UI process starting ... PID:223423, PPID:222538\n",
      "Download process starting ... PID:223424, PPID:222538\n"
     ]
    },
    {
     "name": "stderr",
     "output_type": "stream",
     "text": [
      "Process Process-8:\n",
      "Traceback (most recent call last):\n",
      "  File \"/usr/lib/python3.10/multiprocessing/process.py\", line 314, in _bootstrap\n",
      "    self.run()\n",
      "  File \"/usr/lib/python3.10/multiprocessing/process.py\", line 108, in run\n",
      "    self._target(*self._args, **self._kwargs)\n",
      "  File \"/tmp/ipykernel_222538/2620347243.py\", line 23, in download\n",
      "    youtube_stream = youtube_clip.streams.get_highest_resolution()\n",
      "  File \"/home/jwpark/.local/lib/python3.10/site-packages/pytube/__main__.py\", line 296, in streams\n",
      "    return StreamQuery(self.fmt_streams)\n",
      "  File \"/home/jwpark/.local/lib/python3.10/site-packages/pytube/__main__.py\", line 176, in fmt_streams\n",
      "    stream_manifest = extract.apply_descrambler(self.streaming_data)\n",
      "  File \"/home/jwpark/.local/lib/python3.10/site-packages/pytube/__main__.py\", line 160, in streaming_data\n",
      "    self.bypass_age_gate()\n",
      "  File \"/home/jwpark/.local/lib/python3.10/site-packages/pytube/__main__.py\", line 257, in bypass_age_gate\n",
      "    innertube_response = innertube.player(self.video_id)\n",
      "  File \"/home/jwpark/.local/lib/python3.10/site-packages/pytube/innertube.py\", line 448, in player\n",
      "    return self._call_api(endpoint, query, self.base_data)\n",
      "  File \"/home/jwpark/.local/lib/python3.10/site-packages/pytube/innertube.py\", line 390, in _call_api\n",
      "    response = request._execute_request(\n",
      "  File \"/home/jwpark/.local/lib/python3.10/site-packages/pytube/request.py\", line 37, in _execute_request\n",
      "    return urlopen(request, timeout=timeout)  # nosec\n",
      "  File \"/usr/lib/python3.10/urllib/request.py\", line 216, in urlopen\n",
      "    return opener.open(url, data, timeout)\n",
      "  File \"/usr/lib/python3.10/urllib/request.py\", line 525, in open\n",
      "    response = meth(req, response)\n",
      "  File \"/usr/lib/python3.10/urllib/request.py\", line 634, in http_response\n",
      "    response = self.parent.error(\n",
      "  File \"/usr/lib/python3.10/urllib/request.py\", line 563, in error\n",
      "    return self._call_chain(*args)\n",
      "  File \"/usr/lib/python3.10/urllib/request.py\", line 496, in _call_chain\n",
      "    result = func(*args)\n",
      "  File \"/usr/lib/python3.10/urllib/request.py\", line 643, in http_error_default\n",
      "    raise HTTPError(req.full_url, code, msg, hdrs, fp)\n",
      "urllib.error.HTTPError: HTTP Error 400: Bad Request\n"
     ]
    }
   ],
   "source": [
    "# 미국은 어떻게 강대국이 되었나\n",
    "url = \"http://www.youtube.com/watch?v=S0NsxGrMg3Q\"\n",
    "\n",
    "print(\"main process running ... PID:{}\".format(os.getpid()), flush=True)\n",
    "\n",
    "message_queue = multiprocessing.Queue()\n",
    "\n",
    "p1 = multiprocessing.Process(target=draw_ui, args=(message_queue,))\n",
    "p2 = multiprocessing.Process(target=download, args=(url, message_queue,))\n",
    "\n",
    "p1.start()\n",
    "p2.start()\n",
    "\n",
    "p1.join()\n",
    "p2.join()"
   ]
  }
 ],
 "metadata": {
  "kernelspec": {
   "display_name": ".venv",
   "language": "python",
   "name": "python3"
  },
  "language_info": {
   "codemirror_mode": {
    "name": "ipython",
    "version": 3
   },
   "file_extension": ".py",
   "mimetype": "text/x-python",
   "name": "python",
   "nbconvert_exporter": "python",
   "pygments_lexer": "ipython3",
   "version": "3.10.12"
  },
  "orig_nbformat": 4
 },
 "nbformat": 4,
 "nbformat_minor": 2
}
