{
 "cells": [
  {
   "cell_type": "markdown",
   "metadata": {},
   "source": [
    "# Multiprocessing\n",
    "\n",
    "Reference: https://docs.python.org/3/library/multiprocessing.html#multiprocessing-programming"
   ]
  },
  {
   "cell_type": "code",
   "execution_count": 17,
   "metadata": {},
   "outputs": [],
   "source": [
    "import multiprocessing\n",
    "from tqdm import tqdm\n",
    "from functools import partial\n",
    "import os\n",
    "import sys\n",
    "from pytubefix import YouTube\n",
    "import psutil\n",
    "import time\n",
    "import subprocess"
   ]
  },
  {
   "cell_type": "markdown",
   "metadata": {},
   "source": [
    "### Parallelism Concept"
   ]
  },
  {
   "cell_type": "code",
   "execution_count": 18,
   "metadata": {},
   "outputs": [],
   "source": [
    "def say_numbers():\n",
    "    # Count 1~5\n",
    "    for i in range(1,6,1):\n",
    "        print(f\"Number: #{i}\")\n",
    "        #sys.stdout.write(f\"Number: #{i}\\n\")\n",
    "        #sys.stdout.flush()\n",
    "        time.sleep(0.1)\n",
    "\n",
    "def say_alphabet():\n",
    "    # Count a~e\n",
    "    for i in range(ord(\"a\"), ord(\"f\")):\n",
    "        print(f\"Alphabet: {chr(i)}\")\n",
    "        #sys.stdout.write(f\"Alphabet: {chr(i)}\\n\")\n",
    "        #sys.stdout.flush()\n",
    "        time.sleep(0.1)"
   ]
  },
  {
   "cell_type": "code",
   "execution_count": 19,
   "metadata": {},
   "outputs": [
    {
     "name": "stdout",
     "output_type": "stream",
     "text": [
      "----------Sequential execution----------\n",
      "Number: #1\n",
      "Number: #2\n",
      "Number: #3\n",
      "Number: #4\n",
      "Number: #5\n",
      "Alphabet: a\n",
      "Alphabet: b\n",
      "Alphabet: c\n",
      "Alphabet: d\n",
      "Alphabet: e\n",
      "execution time : 1.0016398429870605\n"
     ]
    }
   ],
   "source": [
    "print(\"-\"*10+\"Sequential execution\"+\"-\"*10)\n",
    "seq = time.time()\n",
    "say_numbers()\n",
    "say_alphabet()\n",
    "print(\"execution time :\", time.time() - seq)"
   ]
  },
  {
   "cell_type": "code",
   "execution_count": 20,
   "metadata": {},
   "outputs": [
    {
     "name": "stdout",
     "output_type": "stream",
     "text": [
      "----------Parallel execution----------\n",
      "Number: #1\n",
      "Alphabet: a\n",
      "Number: #2\n",
      "Alphabet: b\n",
      "Number: #3\n",
      "Alphabet: c\n",
      "Number: #4\n",
      "Alphabet: d\n",
      "Number: #5\n",
      "Alphabet: e\n",
      "execution time : 0.5162351131439209\n"
     ]
    }
   ],
   "source": [
    "print(\"-\"*10+\"Parallel execution\"+\"-\"*10)\n",
    "par = time.time()   # 러닝타임 체크 시작\n",
    "p1 = multiprocessing.Process(target=say_numbers)\n",
    "p2 = multiprocessing.Process(target=say_alphabet)\n",
    "p1.start()\n",
    "p2.start()\n",
    "\n",
    "# join으로 대기하지 않으면 부모 process가 종료되어 자식이 zombie가 된다.\n",
    "p1.join()\n",
    "p2.join()\n",
    "\n",
    "print(\"execution time :\", time.time() - par)    # 러닝타임 체크 끝"
   ]
  },
  {
   "cell_type": "markdown",
   "metadata": {},
   "source": [
    "### Process control methods\n",
    "\n",
    "- **start()**: Sub process를 실행시킵니다.\n",
    "- **terminate()**: Process에게 SIGTERM을 보냅니다.\n",
    "- **join()**: Process가 종료될 때까지 기다립니다.\n",
    "- join([_timeout_]): 지정된 시간(초 단위)까지 기다립니다."
   ]
  },
  {
   "cell_type": "code",
   "execution_count": 21,
   "metadata": {},
   "outputs": [
    {
     "name": "stdout",
     "output_type": "stream",
     "text": [
      "Process child process\n",
      "Child process counting started\n",
      "Number: #0\n",
      "Number: #1\n"
     ]
    }
   ],
   "source": [
    "# terminate() example\n",
    "# 아래의 코드는 좀비 프로세스를 생성시킵니다.\n",
    "# `watch -n1 \"ps aux|grep defunct\"` 명령어로 관찰 할 수 있습니다.\n",
    "\n",
    "def child_process_func():\n",
    "    print(\"Child process counting started\")\n",
    "    # Count 1~5\n",
    "    for i in range(10):\n",
    "        print(f\"Number: #{i}\")\n",
    "        time.sleep(0.5)\n",
    "    # print on normal termination only.\n",
    "    print(\"Normal termination\")\n",
    "\n",
    "\n",
    "p1 = multiprocessing.Process(target=child_process_func)\n",
    "print(\"Process child process\")\n",
    "p1.start()\n",
    "time.sleep(1)\n",
    "\n",
    "# Force kill process\n",
    "p1.terminate()"
   ]
  },
  {
   "cell_type": "code",
   "execution_count": 22,
   "metadata": {},
   "outputs": [
    {
     "name": "stdout",
     "output_type": "stream",
     "text": [
      "Process starting...\n",
      "Number: #1\n",
      "Number: #2\n",
      "Waiting for process to be terminated...\n",
      "Number: #3\n",
      "Number: #4\n",
      "Number: #5\n",
      "Process terminating...\n"
     ]
    }
   ],
   "source": [
    "# join()을 이용해서 좀비 프로세스가 발생하는 것을 방지 할 수 있습니다.\n",
    "\n",
    "def say_numbers():\n",
    "    # Count 1~5\n",
    "    for i in range(1,6,1):\n",
    "        print(f\"Number: #{i}\")\n",
    "        time.sleep(0.1)\n",
    "    print(\"Process terminating...\", flush=True)\n",
    "\n",
    "p1 = multiprocessing.Process(target=say_numbers)\n",
    "print(\"Process starting...\")\n",
    "p1.start()\n",
    "\n",
    "# Wait until process terminates\n",
    "print(\"Waiting for process to be terminated...\")\n",
    "p1.join()"
   ]
  },
  {
   "cell_type": "markdown",
   "metadata": {},
   "source": [
    "### IPC practice: Popen"
   ]
  },
  {
   "cell_type": "code",
   "execution_count": 23,
   "metadata": {},
   "outputs": [
    {
     "name": "stdout",
     "output_type": "stream",
     "text": [
      "Current process ID:20696\n",
      "Subprocess PID: 21387, PPID: 20696\n",
      "total 4350428\n",
      "drwxrwxr-x  3 eleo95 eleo95       4096  9월 24 09:46 Arduino\n",
      "drwxrwxr-x  7 eleo95 eleo95       4096  9월  9 10:23 Bare_repo\n",
      "drwxr-xr-x  2 eleo95 eleo95       4096  9월 19 09:31 Desktop\n",
      "drwxr-xr-x  3 eleo95 eleo95       4096  9월  9 09:38 Documents\n",
      "drwxr-xr-x  4 eleo95 eleo95       4096 10월  2 09:28 Downloads\n",
      "drwxr-xr-x  2 eleo95 eleo95       4096  9월  7 08:36 Music\n",
      "drwxrwxr-x  3 eleo95 eleo95       4096  9월  9 10:22 Non_bare_repo\n",
      "drwxr-xr-x  3 eleo95 eleo95       4096  9월 12 16:13 Pictures\n",
      "drwxr-xr-x  2 eleo95 eleo95       4096  9월  7 08:36 Public\n",
      "-rw-r--r--  1 eleo95 eleo95        134  1월 30  2023 README.dataset.txt\n",
      "-rw-r--r--  1 eleo95 eleo95       1072  1월 30  2023 README.roboflow.txt\n",
      "drwxr-xr-x  2 eleo95 eleo95       4096  9월  7 08:36 Templates\n",
      "drwxr-xr-x  3 eleo95 eleo95       4096  9월 27 14:45 Videos\n",
      "drwxrwxr-x  3 eleo95 eleo95       4096  9월 24 09:42 arduino\n",
      "drwxrwxr-x  5 eleo95 eleo95       4096  9월 13 15:21 chest_xray\n",
      "drwxrwxr-x  3 eleo95 eleo95       4096  9월  9 10:29 cloned_repo\n",
      "-rw-rw-r--  1 eleo95 eleo95 4454353277  2월 29  2024 cuda_12.4.0_550.54.14_linux.run\n",
      "-rw-r--r--  1 eleo95 eleo95        286  9월 23 11:18 data.yaml\n",
      "drwxrwxr-x  4 eleo95 eleo95       4096  9월 23 11:44 face_detection\n",
      "drwxrwxr-x  8 eleo95 eleo95       4096  9월  9 15:52 git-training\n",
      "drwxrwxr-x  3 eleo95 eleo95       4096  9월  9 14:47 github_test\n",
      "drwxrwxr-x  2 eleo95 eleo95       4096  9월 25 11:20 intel\n",
      "drwxrwxr-x  6 eleo95 eleo95       4096  9월  6 16:15 intel-01\n",
      "drwxrwxr-x  6 eleo95 eleo95       4096  9월  6 16:18 intel-05\n",
      "-rw-rw-r--  1 eleo95 eleo95     334434  9월 12 08:37 lena.jpg\n",
      "-rw-rw-r--  1 eleo95 eleo95        262  9월  9 17:18 memo\n",
      "drwxrwxr-x  3 eleo95 eleo95       4096  9월 24 13:40 opencv\n",
      "-rw-rw-r--  1 eleo95 eleo95        258  9월 24 16:44 output.mp4\n",
      "drwxrwxr-x  2 eleo95 eleo95       4096  9월  6 15:57 python_test\n",
      "drwxrwxr-x  7 eleo95 eleo95       4096 10월  2 10:02 ros2_ws\n",
      "drwx------  5 eleo95 eleo95       4096  9월  6 16:05 snap\n",
      "drwxrwxr-x  6 eleo95 eleo95       4096  9월 25 16:20 tensorflow_datasets\n",
      "drwxr-xr-x  4 eleo95 eleo95       4096  1월 30  2023 test\n",
      "drwxr-xr-x  4 eleo95 eleo95       4096  9월 23 11:22 train\n",
      "drwxr-xr-x  4 eleo95 eleo95       4096  9월 23 11:22 valid\n",
      "drwxrwxr-x 15 eleo95 eleo95       4096  9월 26 13:34 workspace\n",
      "drwxrwxr-x  3 eleo95 eleo95       4096 10월  2 09:53 ydlidar_ros_ws\n",
      "\n"
     ]
    }
   ],
   "source": [
    "print(\"Current process ID:{}\".format(os.getpid()), flush=True)\n",
    "\n",
    "ps_process = subprocess.Popen(['bash', 'subprocess.sh'], stdout=subprocess.PIPE, stderr=subprocess.PIPE)\n",
    "stdout, stderr = ps_process.communicate()\n",
    "\n",
    "print(stdout.decode())"
   ]
  },
  {
   "cell_type": "markdown",
   "metadata": {},
   "source": [
    "### `pytube` `tqdm` example\n",
    "\n",
    "- UI와 다운로드가 message_queue로 통신"
   ]
  },
  {
   "cell_type": "markdown",
   "metadata": {},
   "source": [
    "- UI Process"
   ]
  },
  {
   "cell_type": "code",
   "execution_count": 28,
   "metadata": {},
   "outputs": [],
   "source": [
    "# UI 프로세스\n",
    "def draw_ui(message_queue):\n",
    "    print(\n",
    "        \"UI process starting ... PID:{}, PPID:{}\"\n",
    "        .format(\n",
    "            os.getpid(),\n",
    "            psutil.Process(os.getpid()).ppid()), flush=True)\n",
    "    prev = 0\n",
    "    tqdm_bar = None\n",
    "    while True:\n",
    "        message = message_queue.get()\n",
    "        if message[\"type\"] == \"on_progress\":\n",
    "            if tqdm_bar is None:\n",
    "                tqdm_bar = tqdm(total=100, desc=\"Downloading...\")\n",
    "            cur_rate = message[\"progress_rate\"]\n",
    "            tqdm_bar.update(int(cur_rate-prev))\n",
    "            prev = int(cur_rate)\n",
    "        elif message[\"type\"] == \"on_complete\":\n",
    "            if tqdm_bar is None:\n",
    "                tqdm_bar = tqdm(total=100, desc=\"Downloading...\")\n",
    "            tqdm_bar.update(100-prev)\n",
    "            tqdm_bar.close()\n",
    "            print(\"Completed!\")\n",
    "            break"
   ]
  },
  {
   "cell_type": "markdown",
   "metadata": {},
   "source": [
    "- Download Process"
   ]
  },
  {
   "cell_type": "code",
   "execution_count": 29,
   "metadata": {},
   "outputs": [],
   "source": [
    "# 다운로드 프로세스\n",
    "def on_progress(stream, chunk, bytes_remaining, message_queue):\n",
    "    total_size = stream.filesize\n",
    "    bytes_downloaded = total_size - bytes_remaining\n",
    "    progress = (bytes_downloaded / total_size) * 100\n",
    "    message_queue.put({\"type\":\"on_progress\", \"progress_rate\":progress})\n",
    "\n",
    "def on_complete(stream, file_handle, message_queue):\n",
    "    message_queue.put({\"type\":\"on_complete\"})\n",
    "\n",
    "def download(url, message_queue):\n",
    "    print(\n",
    "        \"Download process starting ... PID:{}, PPID:{}\"\n",
    "        .format(\n",
    "            os.getpid(),\n",
    "            psutil.Process(os.getpid()).ppid()), flush=True)\n",
    "    on_progress_with_MQ = partial(on_progress, message_queue=message_queue)\n",
    "    on_complete_with_MQ = partial(on_complete, message_queue=message_queue)\n",
    "    youtube_clip = YouTube(\n",
    "                        url,\n",
    "                        on_progress_callback=on_progress_with_MQ,\n",
    "                        on_complete_callback=on_complete_with_MQ)\n",
    "    youtube_stream = youtube_clip.streams.get_highest_resolution()\n",
    "    youtube_stream.download(\"videos\")"
   ]
  },
  {
   "cell_type": "markdown",
   "metadata": {},
   "source": [
    "- Multiprocessing"
   ]
  },
  {
   "cell_type": "code",
   "execution_count": 30,
   "metadata": {},
   "outputs": [
    {
     "name": "stdout",
     "output_type": "stream",
     "text": [
      "main process running ... PID:20696\n",
      "UI process starting ... PID:21391, PPID:20696\n",
      "Download process starting ... PID:21394, PPID:20696\n"
     ]
    },
    {
     "name": "stderr",
     "output_type": "stream",
     "text": [
      "Downloading...: 100%|██████████| 100/100 [00:02<00:00, 47.89it/s]\n"
     ]
    },
    {
     "name": "stdout",
     "output_type": "stream",
     "text": [
      "Completed!\n"
     ]
    }
   ],
   "source": [
    "# 미국은 어떻게 강대국이 되었나\n",
    "url = \"https://www.youtube.com/watch?v=UbGppTooNho\"\n",
    "\n",
    "print(\"main process running ... PID:{}\".format(os.getpid()), flush=True)\n",
    "\n",
    "message_queue = multiprocessing.Queue()\n",
    "\n",
    "p1 = multiprocessing.Process(target=draw_ui, args=(message_queue,))\n",
    "p2 = multiprocessing.Process(target=download, args=(url, message_queue,))\n",
    "\n",
    "p1.start()\n",
    "p2.start()\n",
    "\n",
    "p1.join()\n",
    "p2.join()"
   ]
  }
 ],
 "metadata": {
  "kernelspec": {
   "display_name": ".venv",
   "language": "python",
   "name": "python3"
  },
  "language_info": {
   "codemirror_mode": {
    "name": "ipython",
    "version": 3
   },
   "file_extension": ".py",
   "mimetype": "text/x-python",
   "name": "python",
   "nbconvert_exporter": "python",
   "pygments_lexer": "ipython3",
   "version": "3.10.12"
  },
  "orig_nbformat": 4
 },
 "nbformat": 4,
 "nbformat_minor": 2
}
